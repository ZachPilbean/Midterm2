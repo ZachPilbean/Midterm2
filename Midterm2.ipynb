{
 "cells": [
  {
   "cell_type": "markdown",
   "id": "817470b9",
   "metadata": {},
   "source": [
    "# Midterm 2 coding Questions Total : 60 \n",
    "### 50 minute\n",
    "### Name-\n",
    "After complition submit it on Moodle using `GitHub` with in the assigned time \n"
   ]
  },
  {
   "cell_type": "markdown",
   "id": "8d611a3d",
   "metadata": {},
   "source": [
    "### Question 1. Print all of the numbers between 1 to 10 and square each numbers and append those to a new list\n",
    "- 5 points"
   ]
  },
  {
   "cell_type": "code",
   "execution_count": 3,
   "id": "d539c611",
   "metadata": {},
   "outputs": [
    {
     "name": "stdout",
     "output_type": "stream",
     "text": [
      "[1]\n",
      "[2]\n",
      "[3]\n",
      "[4]\n",
      "[5]\n",
      "[6]\n",
      "[7]\n",
      "[8]\n",
      "[9]\n",
      "[10]\n"
     ]
    }
   ],
   "source": [
    "for i in range(1,11):\n",
    "    numbers= [i]\n",
    "    print(numbers)"
   ]
  },
  {
   "cell_type": "code",
   "execution_count": 70,
   "id": "27b90d4e",
   "metadata": {},
   "outputs": [
    {
     "name": "stdout",
     "output_type": "stream",
     "text": [
      "[1, 4, 9, 16, 25, 36, 49, 64, 81]\n"
     ]
    }
   ],
   "source": [
    "squares=[number**2 for number in range(1,10)]\n",
    "print(squares)"
   ]
  },
  {
   "cell_type": "code",
   "execution_count": 71,
   "id": "f56cae4f",
   "metadata": {},
   "outputs": [
    {
     "data": {
      "text/plain": [
       "[[1, 4, 9, 16, 25, 36, 49, 64, 81]]"
      ]
     },
     "execution_count": 71,
     "metadata": {},
     "output_type": "execute_result"
    }
   ],
   "source": [
    "new_numbers=[]\n",
    "new_numbers.append(squares)\n",
    "new_numbers"
   ]
  },
  {
   "cell_type": "markdown",
   "id": "8ef2873c",
   "metadata": {},
   "source": [
    "### Question 2. Create a list of 10 random numbers and find out minimum , maximum and total of teh list.\n",
    "* 5 + 3 = 8 points"
   ]
  },
  {
   "cell_type": "code",
   "execution_count": 72,
   "id": "45e5ee75",
   "metadata": {},
   "outputs": [
    {
     "name": "stdout",
     "output_type": "stream",
     "text": [
      "[10, 6, 14, 9, 6, 13, 9, 17, 7, 9]\n"
     ]
    }
   ],
   "source": [
    "list=[]\n",
    "for i in range (10): \n",
    "    x=random.randrange(1,20) \n",
    "    list.append(x)\n",
    "print(list)    \n"
   ]
  },
  {
   "cell_type": "code",
   "execution_count": 78,
   "id": "e069f7c9",
   "metadata": {},
   "outputs": [
    {
     "data": {
      "text/plain": [
       "6"
      ]
     },
     "execution_count": 78,
     "metadata": {},
     "output_type": "execute_result"
    }
   ],
   "source": [
    "min(list)"
   ]
  },
  {
   "cell_type": "code",
   "execution_count": 76,
   "id": "fe71e38c",
   "metadata": {},
   "outputs": [
    {
     "data": {
      "text/plain": [
       "17"
      ]
     },
     "execution_count": 76,
     "metadata": {},
     "output_type": "execute_result"
    }
   ],
   "source": [
    "max(list)"
   ]
  },
  {
   "cell_type": "code",
   "execution_count": 77,
   "id": "569c8bd3",
   "metadata": {},
   "outputs": [
    {
     "data": {
      "text/plain": [
       "100"
      ]
     },
     "execution_count": 77,
     "metadata": {},
     "output_type": "execute_result"
    }
   ],
   "source": [
    "sum(list)"
   ]
  },
  {
   "cell_type": "code",
   "execution_count": null,
   "id": "7515bb16",
   "metadata": {},
   "outputs": [],
   "source": []
  },
  {
   "cell_type": "markdown",
   "id": "2ebd3676",
   "metadata": {},
   "source": [
    "### Question 3. Print `day` and `300` from the new_list\n",
    "new_list= [10, ['new', 300, [[3.141, 20],  345 ]], 'day' ]\n",
    "* 3 + 3 = 6 points"
   ]
  },
  {
   "cell_type": "code",
   "execution_count": 8,
   "id": "6a656b2c",
   "metadata": {},
   "outputs": [],
   "source": [
    "new_list= [10, ['new', 300, [[3.141, 20], 345 ]], 'day' ]"
   ]
  },
  {
   "cell_type": "code",
   "execution_count": 9,
   "id": "46f163c1",
   "metadata": {},
   "outputs": [
    {
     "data": {
      "text/plain": [
       "'day'"
      ]
     },
     "execution_count": 9,
     "metadata": {},
     "output_type": "execute_result"
    }
   ],
   "source": [
    "new_list[2]"
   ]
  },
  {
   "cell_type": "code",
   "execution_count": 10,
   "id": "425a741c",
   "metadata": {},
   "outputs": [
    {
     "data": {
      "text/plain": [
       "300"
      ]
     },
     "execution_count": 10,
     "metadata": {},
     "output_type": "execute_result"
    }
   ],
   "source": [
    "new_list[1][1]"
   ]
  },
  {
   "cell_type": "markdown",
   "id": "68fd8f82",
   "metadata": {},
   "source": [
    "### Question 4.  College=(\"Bellarmine\", \"2001 Neuburg RD\")\n",
    "Print the `name` of the College.\n",
    "* 5 points"
   ]
  },
  {
   "cell_type": "code",
   "execution_count": 11,
   "id": "a56eca6f",
   "metadata": {},
   "outputs": [],
   "source": [
    "College=(\"Bellarmine\", \"2001 Neuburg RD\")"
   ]
  },
  {
   "cell_type": "code",
   "execution_count": 12,
   "id": "7b7ba2d3",
   "metadata": {},
   "outputs": [
    {
     "data": {
      "text/plain": [
       "'Bellarmine'"
      ]
     },
     "execution_count": 12,
     "metadata": {},
     "output_type": "execute_result"
    }
   ],
   "source": [
    "College[0]"
   ]
  },
  {
   "cell_type": "markdown",
   "id": "3468dc38",
   "metadata": {},
   "source": [
    "### Question 5. In the United States as of 1995, minor is generally legally defined as a person under the age of 18. Write a code to check a student is minor or not. Verify the code by user input\n",
    "* 6 points"
   ]
  },
  {
   "cell_type": "code",
   "execution_count": 17,
   "id": "efebbcfd",
   "metadata": {},
   "outputs": [
    {
     "name": "stdout",
     "output_type": "stream",
     "text": [
      "Enter the age of the student: 16\n",
      "This student is a minor\n"
     ]
    }
   ],
   "source": [
    "age=int(input('Enter the age of the student: '))\n",
    "if age<18:\n",
    "    print('This student is a minor')\n",
    "else:\n",
    "    print('This student is not a minor')"
   ]
  },
  {
   "cell_type": "code",
   "execution_count": null,
   "id": "b4a00def",
   "metadata": {},
   "outputs": [],
   "source": []
  },
  {
   "cell_type": "markdown",
   "id": "f84b9ccd",
   "metadata": {},
   "source": [
    "### Question 6. Get an input from user and check whether the number is `odd` and `greater than 10`. If not then comment\n",
    "* 5 points"
   ]
  },
  {
   "cell_type": "code",
   "execution_count": 23,
   "id": "1c59673a",
   "metadata": {},
   "outputs": [
    {
     "name": "stdout",
     "output_type": "stream",
     "text": [
      "Enter a number: 13\n",
      "This number is odd and greater than 10\n"
     ]
    }
   ],
   "source": [
    "number=int(input('Enter a number: '))\n",
    "if number%2==1 and number>10:\n",
    "    print('This number is odd and greater than 10')\n",
    "elif number%2==0 and number>10:\n",
    "    print('This number is even and greater than 10')\n",
    "elif number%2==1 and number<10:\n",
    "    print('This number is odd and less than 10')\n",
    "else:\n",
    "    print('This number is even and less than 10')"
   ]
  },
  {
   "cell_type": "code",
   "execution_count": null,
   "id": "3f1d3047",
   "metadata": {},
   "outputs": [],
   "source": []
  },
  {
   "cell_type": "markdown",
   "id": "45951768",
   "metadata": {},
   "source": [
    "### Question 7. Get a user input and check the given number is multiple of 11 or not\n",
    "* 5 points"
   ]
  },
  {
   "cell_type": "code",
   "execution_count": 25,
   "id": "39bc4fb6",
   "metadata": {},
   "outputs": [
    {
     "name": "stdout",
     "output_type": "stream",
     "text": [
      "Enter a number: 32\n",
      "This number is not a multiple of 11\n"
     ]
    }
   ],
   "source": [
    "number=int(input('Enter a number: '))\n",
    "if number%11==0:\n",
    "    print('This number is a mulitple of 11')\n",
    "else:\n",
    "    print('This number is not a multiple of 11')"
   ]
  },
  {
   "cell_type": "code",
   "execution_count": null,
   "id": "a8d685dc",
   "metadata": {},
   "outputs": [],
   "source": []
  },
  {
   "cell_type": "markdown",
   "id": "a0763abf",
   "metadata": {},
   "source": [
    "### Question 8. Convert the lists to dictionary\n",
    "* keys =  [10, 20, 30]\n",
    "* values =['Ten', 'Twenty', 'Thirty']\n",
    "* 4 points"
   ]
  },
  {
   "cell_type": "code",
   "execution_count": 65,
   "id": "e62f4e7c",
   "metadata": {},
   "outputs": [
    {
     "name": "stdout",
     "output_type": "stream",
     "text": [
      "{10: 'Ten'}\n",
      "{20: 'Twenty'}\n",
      "{30: 'Thirty'}\n"
     ]
    }
   ],
   "source": [
    "keys = [10, 20, 30]\n",
    "values =['Ten', 'Twenty', 'Thirty']\n",
    "\n",
    "for i in range(0,3):\n",
    "    dictionary={keys[i]:values[i]}\n",
    "    print(dictionary)\n",
    "    \n"
   ]
  },
  {
   "cell_type": "code",
   "execution_count": null,
   "id": "1280159f",
   "metadata": {},
   "outputs": [],
   "source": []
  },
  {
   "cell_type": "markdown",
   "id": "c2784d84",
   "metadata": {},
   "source": [
    "### Question 9. Write a function that can take `any arbitary numbers` as inputs and calculate the maximum of them. Check the function for two sets of inputs.\n",
    "* 2+2 points"
   ]
  },
  {
   "cell_type": "code",
   "execution_count": 43,
   "id": "f5654b0e",
   "metadata": {},
   "outputs": [],
   "source": [
    "def maximum(*args):\n",
    "    print(max(*args))"
   ]
  },
  {
   "cell_type": "code",
   "execution_count": 45,
   "id": "327224c2",
   "metadata": {},
   "outputs": [
    {
     "name": "stdout",
     "output_type": "stream",
     "text": [
      "94\n"
     ]
    }
   ],
   "source": [
    "maximum(12,56,57,87,94)"
   ]
  },
  {
   "cell_type": "code",
   "execution_count": 46,
   "id": "5c621a69",
   "metadata": {},
   "outputs": [
    {
     "name": "stdout",
     "output_type": "stream",
     "text": [
      "80\n"
     ]
    }
   ],
   "source": [
    "maximum(14,56,42,32,75,45,80)"
   ]
  },
  {
   "cell_type": "markdown",
   "id": "c108c295",
   "metadata": {},
   "source": [
    "### Question 10. Write functions to find out Area and Perimeter of a square. Check the result for side = 10.\n",
    "\n",
    "* 3+3 points\n"
   ]
  },
  {
   "cell_type": "code",
   "execution_count": 32,
   "id": "a1ad705a",
   "metadata": {},
   "outputs": [],
   "source": [
    "def Area(x,y):\n",
    "    print(x*y)"
   ]
  },
  {
   "cell_type": "code",
   "execution_count": 40,
   "id": "13cc9893",
   "metadata": {},
   "outputs": [
    {
     "name": "stdout",
     "output_type": "stream",
     "text": [
      "100\n"
     ]
    }
   ],
   "source": [
    "Area(10,10)"
   ]
  },
  {
   "cell_type": "code",
   "execution_count": 35,
   "id": "e78729d3",
   "metadata": {},
   "outputs": [],
   "source": [
    "def Perimeter(x,y):\n",
    "    print((2*x)+(2*y))"
   ]
  },
  {
   "cell_type": "code",
   "execution_count": 41,
   "id": "c140ba0a",
   "metadata": {},
   "outputs": [
    {
     "name": "stdout",
     "output_type": "stream",
     "text": [
      "40\n"
     ]
    }
   ],
   "source": [
    "Perimeter(10,10)"
   ]
  },
  {
   "cell_type": "markdown",
   "id": "a187f917",
   "metadata": {},
   "source": [
    "### Question 11. Write down two program using while and for loop that prints all of the number from 10 to 20 (included) \n",
    "* 3+3 points"
   ]
  },
  {
   "cell_type": "code",
   "execution_count": 31,
   "id": "5afcef79",
   "metadata": {},
   "outputs": [
    {
     "name": "stdout",
     "output_type": "stream",
     "text": [
      "10\n",
      "11\n",
      "12\n",
      "13\n",
      "14\n",
      "15\n",
      "16\n",
      "17\n",
      "18\n",
      "19\n",
      "20\n"
     ]
    }
   ],
   "source": [
    "for i in range(10,21):\n",
    "    print(i)"
   ]
  },
  {
   "cell_type": "code",
   "execution_count": 60,
   "id": "ab4f9081",
   "metadata": {},
   "outputs": [
    {
     "name": "stdout",
     "output_type": "stream",
     "text": [
      "10\n",
      "11\n",
      "12\n",
      "13\n",
      "14\n",
      "15\n",
      "16\n",
      "17\n",
      "18\n",
      "19\n",
      "20\n"
     ]
    }
   ],
   "source": [
    "while i<21:\n",
    "    print(i)\n",
    "    i+=1"
   ]
  }
 ],
 "metadata": {
  "kernelspec": {
   "display_name": "Python 3 (ipykernel)",
   "language": "python",
   "name": "python3"
  },
  "language_info": {
   "codemirror_mode": {
    "name": "ipython",
    "version": 3
   },
   "file_extension": ".py",
   "mimetype": "text/x-python",
   "name": "python",
   "nbconvert_exporter": "python",
   "pygments_lexer": "ipython3",
   "version": "3.9.12"
  }
 },
 "nbformat": 4,
 "nbformat_minor": 5
}
